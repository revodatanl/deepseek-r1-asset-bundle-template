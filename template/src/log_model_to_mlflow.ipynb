{
 "cells": [
  {
   "cell_type": "code",
   "execution_count": null,
   "metadata": {},
   "outputs": [],
   "source": [
    "!pip install transformers==4.44.2 mlflow==2.20.1 torch==2.3.1\n",
    "%restart_python"
   ]
  },
  {
   "cell_type": "code",
   "execution_count": null,
   "metadata": {},
   "outputs": [],
   "source": [
    "hugginface_model_id = dbutils.widgets.get(\"hugginface_model_id\")\n",
    "\n",
    "uc_model_name = hugginface_model_id.split(\"/\")[-1]\n",
    "\n",
    "print(hugginface_model_id, uc_model_name)"
   ]
  },
  {
   "cell_type": "code",
   "execution_count": null,
   "metadata": {},
   "outputs": [],
   "source": [
    "# MLFlow task type\n",
    "task = \"llm/v1/chat\""
   ]
  },
  {
   "cell_type": "code",
   "execution_count": null,
   "metadata": {},
   "outputs": [],
   "source": [
    "import mlflow\n",
    "import transformers\n",
    "\n",
    "model = transformers.AutoModelForCausalLM.from_pretrained(hugginface_model_id)\n",
    "tokenizer = transformers.AutoTokenizer.from_pretrained(hugginface_model_id)\n",
    "\n",
    "transformers_model = {\"model\": model, \"tokenizer\": tokenizer}\n",
    "\n",
    "with mlflow.start_run():\n",
    "    model_info = mlflow.transformers.log_model(\n",
    "        transformers_model=transformers_model,\n",
    "        artifact_path=\"model\",\n",
    "        task=task,\n",
    "        registered_model_name=uc_model_name,\n",
    "        metadata={\n",
    "            \"task\": task,\n",
    "            \"pretrained_model_name\": \"meta-llama/Llama-3.3-8B-Instruct\",\n",
    "            \"databricks_model_family\": \"LlamaForCausalLM\",\n",
    "            \"databricks_model_size_parameters\": \"8b\",\n",
    "        },\n",
    "        await_registration_for=1500,\n",
    "    )"
   ]
  },
  {
   "cell_type": "code",
   "execution_count": null,
   "metadata": {},
   "outputs": [],
   "source": [
    "dbutils.jobs.taskValues.set(\"model_version\", model_info.registered_model_version)\n",
    "dbutils.jobs.taskValues.set(\"uc_model_name\", uc_model_name)"
   ]
  }
 ],
 "metadata": {
  "kernelspec": {
   "display_name": "Python 3",
   "language": "python",
   "name": "python3"
  },
  "language_info": {
   "codemirror_mode": {
    "name": "ipython",
    "version": 3
   },
   "file_extension": ".py",
   "mimetype": "text/x-python",
   "name": "python",
   "nbconvert_exporter": "python",
   "pygments_lexer": "ipython3",
   "version": "3.9.6"
  }
 },
 "nbformat": 4,
 "nbformat_minor": 2
}
