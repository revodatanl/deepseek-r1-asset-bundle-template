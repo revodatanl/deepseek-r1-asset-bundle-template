{
 "cells": [
  {
   "cell_type": "code",
   "execution_count": null,
   "metadata": {},
   "outputs": [],
   "source": [
    "uc_model_name = dbutils.jobs.taskValues.get(taskKey=\"log-model-to-mlflow\", key=\"uc_model_name\")\n",
    "model_version = dbutils.jobs.taskValues.get(taskKey=\"log-model-to-mlflow\", key=\"model_version\")"
   ]
  },
  {
   "cell_type": "code",
   "execution_count": null,
   "metadata": {},
   "outputs": [],
   "source": [
    "config = {\n",
    "            \"served_entities\": [{\n",
    "                \"entity_name\": uc_model_name,\n",
    "                \"entity_version\": model_version,\n",
    "                \"min_provisioned_throughput\": 0,\n",
    "                \"max_provisioned_throughput\": 9500,\n",
    "                \"scale_to_zero_enabled\": True\n",
    "            }],\n",
    "            \"traffic_config\": {\n",
    "                \"routes\": [{\n",
    "                    \"served_model_name\": f\"{uc_model_name}-{model_version}\",\n",
    "                    \"traffic_percentage\": 100\n",
    "                }]\n",
    "            }\n",
    "}"
   ]
  },
  {
   "cell_type": "code",
   "execution_count": null,
   "metadata": {},
   "outputs": [],
   "source": [
    "from mlflow.deployments import get_deploy_client\n",
    "client = get_deploy_client(\"databricks\")"
   ]
  },
  {
   "cell_type": "code",
   "execution_count": null,
   "metadata": {},
   "outputs": [],
   "source": [
    "def endpoint_exists(uc_model_name):\n",
    "    try:\n",
    "        client.get_endpoint(uc_model_name)\n",
    "        return True\n",
    "    except Exception as e:\n",
    "        print({str(e)})\n",
    "        return False"
   ]
  },
  {
   "cell_type": "code",
   "execution_count": null,
   "metadata": {},
   "outputs": [],
   "source": [
    "\n",
    "if endpoint_exists(uc_model_name):\n",
    "    endpoint = client.get_endpoint(uc_model_name)\n",
    "    \n",
    "    assert endpoint.get('state').get('config_update') != 'IN_PROGRESS', \"Endpoint is already being updated\"\n",
    "\n",
    "    endpoint = client.update_endpoint(\n",
    "            endpoint=uc_model_name,\n",
    "            config=config,\n",
    "    )\n",
    "else:\n",
    "    endpoint = client.create_endpoint(\n",
    "        name=uc_model_name,\n",
    "        config=config\n",
    "    )\n",
    "    \n",
    "    "
   ]
  }
 ],
 "metadata": {
  "language_info": {
   "name": "python"
  }
 },
 "nbformat": 4,
 "nbformat_minor": 2
}
